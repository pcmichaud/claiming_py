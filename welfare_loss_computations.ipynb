{
 "cells": [
  {
   "cell_type": "code",
   "execution_count": 7,
   "id": "0a3c0b08",
   "metadata": {},
   "outputs": [],
   "source": [
    "import pandas as pd\n",
    "import numpy as np\n",
    "from numba import njit, float64, int64\n",
    "from numba.types import Tuple\n",
    "import swifter\n",
    "from model import *"
   ]
  },
  {
   "cell_type": "code",
   "execution_count": 9,
   "id": "202fbba8",
   "metadata": {},
   "outputs": [],
   "source": [
    "df = pd.read_csv('data/estimation_sample.csv')\n",
    "for scn in range(1,8):\n",
    "        for i in df.index:\n",
    "            a = df.loc[i,'q37_'+str(scn)]\n",
    "            if scn!=7:\n",
    "                df.loc[i,'npv_pick'] = df.loc[i,'npv_'+str(a)+'_'+str(scn)+'compas']\n",
    "                df.loc[i,'npv_opt'] = df.loc[i,['npv_'+str(a)+'_'+str(scn)+'compas' for a in range(60,71)]].max()\n",
    "                df.loc[i,'npv_loss_rel_'+str(scn)] = -(df.loc[i,'npv_pick']/df.loc[i,'npv_opt']-1)*100\n",
    "                df.loc[i,'npv_loss_'+str(scn)] = -(df.loc[i,'npv_pick']-df.loc[i,'npv_opt'])\n",
    "\n",
    "            else :\n",
    "                df.loc[i,'npv_pick'] = df.loc[i,'npv_'+str(a)+'_'+str(1)+'compas']\n",
    "                df.loc[i,'npv_opt'] = df.loc[i,['npv_'+str(a)+'_'+str(1)+'compas' for a in range(60,71)]].max()\n",
    "                df.loc[i,'npv_loss_rel_'+str(scn)] = -(df.loc[i,'npv_pick']/df.loc[i,'npv_opt']-1)*100\n",
    "                df.loc[i,'npv_loss_'+str(scn)] = -(df.loc[i,'npv_pick']-df.loc[i,'npv_opt'])"
   ]
  },
  {
   "cell_type": "code",
   "execution_count": 10,
   "id": "a2d3f2b2",
   "metadata": {},
   "outputs": [],
   "source": [
    "df.to_csv('data/estimation_sample_welfare.csv')"
   ]
  },
  {
   "cell_type": "code",
   "execution_count": null,
   "id": "b96b0942",
   "metadata": {},
   "outputs": [],
   "source": []
  }
 ],
 "metadata": {
  "kernelspec": {
   "display_name": "Python 3 (ipykernel)",
   "language": "python",
   "name": "python3"
  },
  "language_info": {
   "codemirror_mode": {
    "name": "ipython",
    "version": 3
   },
   "file_extension": ".py",
   "mimetype": "text/x-python",
   "name": "python",
   "nbconvert_exporter": "python",
   "pygments_lexer": "ipython3",
   "version": "3.8.12"
  }
 },
 "nbformat": 4,
 "nbformat_minor": 5
}
